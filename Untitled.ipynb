{
 "cells": [
  {
   "cell_type": "code",
   "execution_count": 1,
   "id": "ca9a88cf",
   "metadata": {},
   "outputs": [],
   "source": [
    "from pandas.io import gbq"
   ]
  },
  {
   "cell_type": "code",
   "execution_count": null,
   "id": "49765cdf",
   "metadata": {},
   "outputs": [],
   "source": [
    "df = gbq.read_gbq(\"select * from `nps-omop-project.C_SREDH_NPS_MI_STAGING_SIMPLIFIED_2021.PATIENT`\", project_id = \"nps-omop-project\")"
   ]
  },
  {
   "cell_type": "code",
   "execution_count": null,
   "id": "be93be8a",
   "metadata": {},
   "outputs": [],
   "source": []
  }
 ],
 "metadata": {
  "kernelspec": {
   "display_name": "Python 3",
   "language": "python",
   "name": "python3"
  },
  "language_info": {
   "codemirror_mode": {
    "name": "ipython",
    "version": 3
   },
   "file_extension": ".py",
   "mimetype": "text/x-python",
   "name": "python",
   "nbconvert_exporter": "python",
   "pygments_lexer": "ipython3",
   "version": "3.8.8"
  }
 },
 "nbformat": 4,
 "nbformat_minor": 5
}
